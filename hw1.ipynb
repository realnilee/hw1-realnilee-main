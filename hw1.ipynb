{
 "cells": [
  {
   "cell_type": "markdown",
   "metadata": {},
   "source": [
    "# Домашнее задание №1. Инструмент для анализа текста\n",
    "\n",
    "**Основная задача**: Создайте инструмент для анализа текста, который обрабатывает текстовые записи (например, отзывы пользователей, статьи или отрывки из книг) и предоставляет некоторые выводы, статистику и преобразования. После этого примените инструмент для анализа текста в соответствии с вашим вариантом и сделайте выводы о характере текста.\n",
    "\n",
    "## Определение анализируемого текста"
   ]
  },
  {
   "cell_type": "code",
   "execution_count": 146,
   "metadata": {},
   "outputs": [
    {
     "name": "stdout",
     "output_type": "stream",
     "text": [
      "Вариант:  1\n",
      "Анализируемый текст: \n",
      "**_Stellar Blade_** is the latest exclusive to hit the PlayStation 5 that excels\n",
      "at delivering a highly riveting action RPG. Shift Up Corporation has crafted an\n",
      "impressive linear title that takes influences from some of the most renowned\n",
      "games in recent times. **Even though the parallels are quite apparent, _Stellar\n",
      "Blade_ doesn’t try to reinvent the wheel but rather refines what players are\n",
      "already familiar with.**  _Stellar Blade_ is centered around EVE, a member of\n",
      "the 7th Airborne Division w...\n"
     ]
    }
   ],
   "source": [
    "import textwrap\n",
    "import pytest\n",
    "\n",
    "surname = \"Маслюк\" \n",
    "\n",
    "if not surname:\n",
    "    raise Exception('Необходимо указать фамилию!')\n",
    "\n",
    "alp = \"абвгдеёжзийклмнопрстуфхцчшщъыьэюя\"\n",
    "w = [1, 4, 21, 25, 34,  6, 44, 26, 13, 44, 38, 26, 4, 43,  4, 49, 46,\n",
    "        17, 42, 29,  4,  9, 36, 34, 31, 22,  15, 30,  4, 19, 28, 28, 33]\n",
    "\n",
    "d = dict(zip(alp, w))\n",
    "variant =  sum([d[el] for el in surname.lower()]) % 4 + 1\n",
    "\n",
    "print(\"Вариант: \", variant)\n",
    "\n",
    "# Construct the file name based on the variant number\n",
    "file_name = f\"data/{variant}.txt\"\n",
    "\n",
    "# Read the contents of the file\n",
    "with open(file_name, \"r\", encoding=\"utf-8\") as file:\n",
    "    TEXT = file.read()\n",
    "\n",
    "wrapped = textwrap.fill(TEXT[:500], width=80)\n",
    "print(f\"Анализируемый текст: \\n{wrapped}...\")"
   ]
  },
  {
   "cell_type": "markdown",
   "metadata": {},
   "source": [
    "Задача 1"
   ]
  },
  {
   "cell_type": "code",
   "execution_count": 147,
   "metadata": {},
   "outputs": [
    {
     "name": "stdout",
     "output_type": "stream",
     "text": [
      "[\"i love python! it's amazing and fun.\"]\n"
     ]
    }
   ],
   "source": [
    "import re\n",
    "import pytest\n",
    "from typing import List, Dict, Callable, Any\n",
    "from collections import Counter\n",
    "\n",
    "def preprocess_text(text: str) -> str:\n",
    "    text = text.lower()\n",
    "    text = re.sub(r\"[^\\w\\s.!?@+_']\", '', text)\n",
    "    text = re.sub(r'([.!?])\\1+', r'\\1', text)\n",
    "    text = re.sub(r'\\s+', ' ', text).strip()\n",
    "    text = text.replace(\"_\", \"\")\n",
    "    return text\n",
    "\n",
    "input_texts = [\n",
    "    \"i love python! it's amazing and fun.\"\n",
    "]\n",
    "\n",
    "processed_texts = [preprocess_text(text) for text in input_texts]\n",
    "print(processed_texts)\n"
   ]
  },
  {
   "cell_type": "markdown",
   "metadata": {},
   "source": [
    "В первой задаче была использована библиотека re для того, чтобы прописать регулярные выражения, которые будут оставаться в тексте при форматировании."
   ]
  },
  {
   "cell_type": "markdown",
   "metadata": {},
   "source": [
    "Задача 2"
   ]
  },
  {
   "cell_type": "code",
   "execution_count": 148,
   "metadata": {},
   "outputs": [
    {
     "data": {
      "text/plain": [
       "{'hello': 1, 'world': 1, 'test': 1}"
      ]
     },
     "execution_count": 148,
     "metadata": {},
     "output_type": "execute_result"
    }
   ],
   "source": [
    "def word_frequency(text,stop_words = [\"i\",\"and\", \"the\", \"is\", \"in\", \"it\", \"you\", \"that\", \"to\", \"of\", \"a\", \"with\",\"this\", \"for\", \"on\", \"at\", \"by\", \"an\", \"should\", \"be\"]):\n",
    "    text = preprocess_text(text)\n",
    "    text = text.replace(\".\", \"\")\n",
    "    text = text.replace(\"!\", \"\")\n",
    "    word_count = {}\n",
    "    words = text.split(' ')\n",
    "    if text != \"\":\n",
    "        for word in words:\n",
    "            if word not in stop_words:\n",
    "                if word in word_count:\n",
    "                    word_count[word] += 1\n",
    "                else:\n",
    "                    word_count[word] = 1     \n",
    "        return word_count\n",
    "    else:\n",
    "        return word_count\n",
    "\n",
    "word_frequency(\"Hello, world! This is a test.\")"
   ]
  },
  {
   "cell_type": "markdown",
   "metadata": {},
   "source": [
    "Во второй задаче была написана функция, которая считает в отформатированном тексте слова, не прописанные в стоп-листе. "
   ]
  },
  {
   "cell_type": "markdown",
   "metadata": {},
   "source": [
    "Задача 3"
   ]
  },
  {
   "cell_type": "code",
   "execution_count": 149,
   "metadata": {},
   "outputs": [
    {
     "name": "stdout",
     "output_type": "stream",
     "text": [
      "{'emails': ['john.doe@example.com'], 'phone_numbers': ['+123 456 7890'], 'dates': ['10/05/2024'], 'times': [], 'prices': []}\n"
     ]
    }
   ],
   "source": [
    "import re\n",
    "\n",
    "def extract_information(\n",
    "    text: str, \n",
    "    *, \n",
    "    email_pattern=r'[a-zA-Z0-9._%+-]+@[a-zA-Z0-9.-]+\\.[a-zA-Z]{2,}',\n",
    "    phone_pattern=r'[\\+]?[(]?[0-9]{3}[)]?[-\\s\\.]?[0-9]{3}[-\\s\\.]?[0-9]{4,6}',\n",
    "    date_pattern=r'\\b\\d{1,2}[-/]\\d{1,2}[-/]\\d{2,4}\\b',\n",
    "    time_pattern=r'\\b\\d{1,2}:\\d{2}\\s*[APap][mM]?\\b',\n",
    "    price_pattern=r'\\$\\d+(?:\\.\\d{2})?',\n",
    "    **custom_patterns\n",
    "):\n",
    "    patterns = {\n",
    "        \"emails\": email_pattern,\n",
    "        \"phone_numbers\": phone_pattern,\n",
    "        \"dates\": date_pattern,\n",
    "        \"times\": time_pattern,\n",
    "        \"prices\": price_pattern\n",
    "    }\n",
    "    results = {}\n",
    "    for key, pattern in patterns.items():\n",
    "        results[key] = re.findall(pattern, text)\n",
    "    \n",
    "    for key, pattern in custom_patterns.items():\n",
    "        results[key] = re.findall(pattern, text)\n",
    "    \n",
    "    return results\n",
    "\n",
    "input_text = \"Contact me at john.doe@example.com or call +123 456 7890. Meeting on 10/05/2024.\"\n",
    "print(extract_information(input_text))\n"
   ]
  },
  {
   "cell_type": "markdown",
   "metadata": {},
   "source": [
    "В третьей задаче были снова были использованы регулярные выражения, но только в этот раз для нахождения конкретных типов данных. На основе этого и работает функция, которая находит по прописанным паттернам тип данных и выводит их."
   ]
  },
  {
   "cell_type": "markdown",
   "metadata": {},
   "source": [
    "Задача 4"
   ]
  },
  {
   "cell_type": "code",
   "execution_count": 150,
   "metadata": {},
   "outputs": [],
   "source": [
    "def analyze_sentiment(text = \"Nothing special about this.\", positive_words = [\"fun\",\"amazing\",\"good\", \"great\", \"happy\", \"joy\", \"excellent\", \"fantastic\", \"love\", \"best\"],\n",
    "                      negative_words = [\"bad\", \"sad\", \"hate\", \"terrible\", \"awful\", \"poor\", \"worst\"]):\n",
    "    text = text.lower()\n",
    "    text = ' '.join(text.split())\n",
    "    a = []\n",
    "    allsimv = ['!','?','.',',','\\n','@','#','$','%','^','&','*','(',')']\n",
    "    spec = ['!','?','.',',','\\n','@','#','$','%','^','&','*','(',')']\n",
    "    for i in range(len(spec)):\n",
    "        while allsimv[i]+allsimv[i] in text:\n",
    "            text = text.replace(allsimv[i]+allsimv[i],allsimv[i])\n",
    "    for i in text:\n",
    "        if i in spec:\n",
    "            text = text.replace(i,\"\")\n",
    "    print(text)\n",
    "    sum_pos = 0\n",
    "    sum_neg = 0\n",
    "    text = text.split(\" \")\n",
    "    for i in text:\n",
    "        if i in positive_words:\n",
    "           sum_pos+=1\n",
    "        if i in negative_words:\n",
    "            sum_neg+=1\n",
    "    return sum_pos-sum_neg\n",
    "\n",
    "def apply_analysis(text: str, analysis_functions: List[Callable[[str], Any]]) -> Dict[str, Any]:\n",
    "    results = {}\n",
    "    for func in analysis_functions:\n",
    "        results[func.__name__] = func(text)\n",
    "    return results"
   ]
  },
  {
   "cell_type": "markdown",
   "metadata": {},
   "source": [
    "В задаче 4 была написана функция, которая использует прописанные массивы с позитивными и негативными словами для общей оценки настроения текста."
   ]
  },
  {
   "cell_type": "markdown",
   "metadata": {},
   "source": [
    "Задача 5"
   ]
  },
  {
   "cell_type": "code",
   "execution_count": 151,
   "metadata": {},
   "outputs": [],
   "source": [
    "def summarize_text(text: str, compression_ratio=0.1, min_threshold=2) -> str:\n",
    "    if not text.strip():\n",
    "        return text\n",
    "    if text.count('.') <= 1:\n",
    "        return text.strip()\n",
    "\n",
    "    text = preprocess_text(text)\n",
    "    text_len = len(text)\n",
    "    sentences = list(filter(lambda t: t, re.split(r'[.!?]', text)))\n",
    "    sentences.sort(key=len, reverse=True)\n",
    "\n",
    "    summary = []\n",
    "    total_len = 0\n",
    "\n",
    "    for sentence in sentences:\n",
    "        if total_len / text_len < compression_ratio or len(summary) < min_threshold:\n",
    "            summary.append(sentence.strip())\n",
    "            total_len += len(sentence)\n",
    "        else:\n",
    "            break\n",
    "\n",
    "    return '. '.join(summary) + '.'"
   ]
  },
  {
   "cell_type": "markdown",
   "metadata": {},
   "source": [
    "В задаче 5 написана функция, которая выводит текст, сокращенный на некоторое количество процентов, выводя только самую важную информацию из текста. "
   ]
  },
  {
   "cell_type": "markdown",
   "metadata": {},
   "source": [
    "Задача 6"
   ]
  },
  {
   "cell_type": "code",
   "execution_count": 152,
   "metadata": {},
   "outputs": [
    {
     "name": "stdout",
     "output_type": "stream",
     "text": [
      "hello: *****\n",
      "python: ****\n",
      "world: ***\n",
      "coding: **\n"
     ]
    }
   ],
   "source": [
    "def visualize_word_frequency(word_frequencies, max_threshold=20):\n",
    "\n",
    "    sorted_words = sorted(word_frequencies.items(), key=lambda x: x[1], reverse=True)\n",
    "    \n",
    "    max_frequency = max(word_frequencies.values(), default=0)\n",
    "    \n",
    "    for word, freq in sorted_words[:max_threshold]:\n",
    "        bar = '*' * freq  \n",
    "        print(f\"{word}: {bar}\")\n",
    "\n",
    "word_frequencies = {\n",
    "    \"hello\": 5,\n",
    "    \"world\": 3,\n",
    "    \"python\": 4,\n",
    "    \"coding\": 2\n",
    "}\n",
    "\n",
    "visualize_word_frequency(word_frequencies)"
   ]
  },
  {
   "cell_type": "markdown",
   "metadata": {},
   "source": [
    "Функция visualize_word_frequency строит текстовую гистограмму для отображения частоты слов.\n",
    "\n",
    "Сортирует слова из словаря word_frequencies по убыванию частоты.\n",
    "Ограничивает вывод до max_threshold слов (по умолчанию 20).\n",
    "Для каждого слова отображает его частоту в виде строки из *."
   ]
  },
  {
   "cell_type": "markdown",
   "metadata": {},
   "source": [
    "Задача 7"
   ]
  },
  {
   "cell_type": "code",
   "execution_count": 153,
   "metadata": {},
   "outputs": [
    {
     "name": "stdout",
     "output_type": "stream",
     "text": [
      "i love this product it's fantastic and makes me very happy\n",
      "{'word_frequency': {'love': 1, 'product': 1, \"it's\": 1, 'fantastic': 1, 'makes': 1, 'me': 1, 'very': 1, 'happy': 1}, 'analyze_sentiment': 3}\n"
     ]
    }
   ],
   "source": [
    "\n",
    "def analyze_sentiment(text = \"Nothing special about this.\", positive_words = [\"fun\",\"amazing\",\"good\", \"great\", \"happy\", \"joy\", \"excellent\", \"fantastic\", \"love\", \"best\"],\n",
    "                      negative_words = [\"bad\", \"sad\", \"hate\", \"terrible\", \"awful\", \"poor\", \"worst\"]):\n",
    "    text = text.lower()\n",
    "    text = ' '.join(text.split())\n",
    "    a = []\n",
    "    allsimv = ['!','?','.',',','\\n','@','#','$','%','^','&','*','(',')']\n",
    "    spec = ['!','?','.',',','\\n','@','#','$','%','^','&','*','(',')']\n",
    "    for i in range(len(spec)):\n",
    "        while allsimv[i]+allsimv[i] in text:\n",
    "            text = text.replace(allsimv[i]+allsimv[i],allsimv[i])\n",
    "    for i in text:\n",
    "        if i in spec:\n",
    "            text = text.replace(i,\"\")\n",
    "    print(text)\n",
    "    sum_pos = 0\n",
    "    sum_neg = 0\n",
    "    text = text.split(\" \")\n",
    "    for i in text:\n",
    "        if i in positive_words:\n",
    "           sum_pos+=1\n",
    "        if i in negative_words:\n",
    "            sum_neg+=1\n",
    "    return sum_pos-sum_neg\n",
    "\n",
    "def apply_analysis(text: str, analysis_functions: List) -> Dict[str, any]:\n",
    "    results = {}\n",
    "    for func in analysis_functions:\n",
    "        results[func.__name__] = func(text)\n",
    "    return results\n",
    "\n",
    "\n",
    "input_text = \"I love this product! It's fantastic and makes me very happy.\"\n",
    "\n",
    "results = apply_analysis(input_text, [word_frequency, analyze_sentiment])\n",
    "\n",
    "print(results)\n"
   ]
  },
  {
   "cell_type": "markdown",
   "metadata": {},
   "source": [
    "Функция analyze_sentiment анализирует текст на наличие положительных и отрицательных слов.\n",
    "Нормализует текст: удаляет лишние пробелы, спецсимволы и делает его строчными буквами.\n",
    "Сравнивает слова текста со списками положительных и отрицательных слов.\n",
    "Возвращает разницу между количеством положительных и отрицательных слов.\n",
    "Функция apply_analysis применяет переданные функции анализа к тексту и возвращает их результаты."
   ]
  },
  {
   "cell_type": "markdown",
   "metadata": {},
   "source": [
    "Задача 8"
   ]
  },
  {
   "cell_type": "code",
   "execution_count": 154,
   "metadata": {},
   "outputs": [
    {
     "name": "stdout",
     "output_type": "stream",
     "text": [
      "{'emails': ['john.doe@example.com'], 'phone_numbers': ['+123 456 7890'], 'dates': [], 'times': [], 'prices': []}\n"
     ]
    }
   ],
   "source": [
    "import re\n",
    "from collections import Counter\n",
    "from typing import List, Dict, Callable, Any\n",
    "\n",
    "class TextAnalyzer:\n",
    "    def __init__(self, text: str):\n",
    "        self.original_text = text\n",
    "        self.cleaned_text = self.preprocess_text(text)\n",
    "\n",
    "    def preprocess_text(self, text: str) -> str:\n",
    "        text = text.lower()\n",
    "        text = re.sub(r\"[^\\w\\s.!?@+']\", '', text)\n",
    "        text = re.sub(r'([.!?])\\1+', r'\\1', text)\n",
    "        text = re.sub(r'\\s+', ' ', text).strip()\n",
    "        return text\n",
    "\n",
    "    def word_frequency(self, stop_words: List[str] = None) -> Dict[str, int]:\n",
    "        cleaned_text = self.cleaned_text\n",
    "        if stop_words is None:\n",
    "            stop_words = [\"and\", \"the\", \"is\", \"in\", \"it\", \"you\", \"that\", \"to\", \"of\", \"a\", \"with\", \"for\", \"on\", \"this\", \"at\", \"by\", \"an\", \"should\", \"be\"]\n",
    "        words = re.findall(r'\\b\\w+\\'?\\w*\\b', cleaned_text)  \n",
    "        frequencies = Counter(word for word in words if word not in stop_words)\n",
    "        return dict(frequencies)\n",
    "    \n",
    "    def extract_information(\n",
    "        self: str, \n",
    "        *, \n",
    "        email_pattern=r'[a-zA-Z0-9._%+-]+@[a-zA-Z0-9.-]+\\.[a-zA-Z]{2,}',\n",
    "        phone_pattern=r'[\\+]?[(]?[0-9]{3}[)]?[-\\s\\.]?[0-9]{3}[-\\s\\.]?[0-9]{4,6}',\n",
    "        date_pattern=r'\\b\\d{1,2}[-/]\\d{1,2}[-/]\\d{2,4}\\b',\n",
    "        time_pattern=r'\\b\\d{1,2}:\\d{2}\\s*[APap][mM]?\\b',\n",
    "        price_pattern=r'\\$\\d+(?:\\.\\d{2})?',\n",
    "        **custom_patterns\n",
    "    ):\n",
    "        patterns = {\n",
    "            \"emails\": email_pattern,\n",
    "            \"phone_numbers\": phone_pattern,\n",
    "            \"dates\": date_pattern,\n",
    "            \"times\": time_pattern,\n",
    "            \"prices\": price_pattern\n",
    "        }\n",
    "        results = {}\n",
    "        for key, pattern in patterns.items():\n",
    "            results[key] = re.findall(pattern, self.cleaned_text)  \n",
    "            \n",
    "        for key, pattern in custom_patterns.items():\n",
    "            results[key] = re.findall(pattern, self.cleaned_text)  \n",
    "            \n",
    "        return results\n",
    "\n",
    "\n",
    "    def analyze_sentiment(self, *, positive_words=None, negative_words=None) -> int:\n",
    "        cleaned_text = self.cleaned_text\n",
    "        if positive_words is None:\n",
    "            positive_words = [\"good\", \"great\", \"happy\", \"joy\", \"excellent\", \"fantastic\", \"love\", \"best\"]\n",
    "        if negative_words is None:\n",
    "            negative_words = [\"bad\", \"sad\", \"hate\", \"terrible\", \"awful\", \"poor\", \"worst\"]\n",
    "        words = re.findall(r'\\b\\w+\\'?\\w*\\b', cleaned_text)\n",
    "        positive_count = sum(word in positive_words for word in words)\n",
    "        negative_count = sum(word in negative_words for word in words)\n",
    "        return positive_count - negative_count\n",
    "\n",
    "    def apply_analysis(self: str, analysis_functions: List) -> Dict[str, any]:\n",
    "        results = {}\n",
    "        for func in analysis_functions:\n",
    "            results[func.__name__] = func(self.cleaned_text)\n",
    "        return results\n",
    "\n",
    "\n",
    "    def summarize_text(self, compression_ratio=0.5) -> str:\n",
    "        sentences = re.split(r'[.!?]', self.original_text)\n",
    "        sentences = [s.strip() for s in sentences if s.strip()]\n",
    "        num_sentences = max(1, int(len(sentences) * compression_ratio))\n",
    "        return ' '.join(sentences[:num_sentences])\n",
    "\n",
    "    def visualize_word_frequency(self):\n",
    "        frequencies = self.word_frequency()\n",
    "        for word, count in frequencies.items():\n",
    "            print(f\"{word}: {'*' * count}\")\n",
    "\n",
    "\n",
    "text = \"Email me at john.doe@example.com. Call me at +123 456 7890.\"\n",
    "analyzer = TextAnalyzer(text)\n",
    "result = analyzer.extract_information()\n",
    "print(result)"
   ]
  },
  {
   "cell_type": "markdown",
   "metadata": {},
   "source": [
    "Класс TextAnalyzer соединяет в себе все написанные ранее функции:\n",
    "\n",
    "preprocess_text: очищает текст от лишних символов и нормализует его.\n",
    "word_frequency: вычисляет частоту слов, исключая стоп-слова.\n",
    "extract_information: извлекает из текста данные по шаблонам (e-mail, телефоны, даты, и т.д.).\n",
    "analyze_sentiment: анализирует настроение текста, используя списки положительных и отрицательных слов.\n",
    "apply_analysis: применяет функции анализа к тексту.\n",
    "summarize_text: сокращает текст, оставляя заданную долю предложений.\n",
    "visualize_word_frequency: отображает частоты слов в виде гистограммы."
   ]
  },
  {
   "cell_type": "markdown",
   "metadata": {},
   "source": [
    "Задача 9"
   ]
  },
  {
   "cell_type": "code",
   "execution_count": 155,
   "metadata": {},
   "outputs": [
    {
     "name": "stdout",
     "output_type": "stream",
     "text": [
      "Текст моего варианта: **_Stellar Blade_** is the latest exclusive to hit the PlayStation 5 that excels at delivering a highly riveting action RPG. Shift Up Corporation has crafted an impressive linear title that takes influences from some of the most renowned games in recent times. **Even though the parallels are quite apparent, _Stellar Blade_ doesnвЂ™t try to reinvent the wheel but rather refines what players are already familiar with.**\n",
      "\n",
      "_Stellar Blade_ is centered around EVE, a member of the 7th Airborne Division who has come back to a ravaged Earth from an off-world colony. She, along with other warriors, has been sent to investigate the origins of the Naytibas and reclaim the planet for humanity. During the course of her mission, EVE discovers that the history between the Naytibas and humans is far more complicated than anticipated.\n",
      "\n",
      "\n",
      "\n",
      "##### Stellar Blade\n",
      "\n",
      "Stellar Blade is an immediate must-play for PS5.\n",
      "\n",
      "**Pros**\n",
      "\n",
      "-   Spectacular combat mechanics\n",
      "-   Solid performance\n",
      "-   Cool abilities\n",
      "-   Evocative soundtrack\n",
      "\n",
      "**Cons**\n",
      "\n",
      "-   Inconsistent narrative pacing\n",
      "-   Minor visual issues\n",
      "\n",
      "## Combat Gameplay Is The Star Of The Show\n",
      "\n",
      "### Fun & Exhilarating Encounters\n",
      "\n",
      "Set in a semi-open world, _Stellar Blade_ is akin to the cult hit _NieR: Automata_ while borrowing gameplay elements from Soulslite titles like _Jedi: Fallen Order_. While this may initially sound intimidating, it isnвЂ™t as steadfast in the genreвЂ™s common stereotypes. **Gameplay can be quite rewarding if players use all the mechanics and RPG systems as intended**, and it even has a вЂњ_Story Mode_вЂќ for those who arenвЂ™t experienced with Soulslike mechanics.\n",
      "\n",
      "Stellar Blade demands its players to be precise and adaptable with their actions on normal difficulty, and playing a more defensive style will be a boon, especially during boss fights. Unlike hack-and-slash titles like _NieR: Automata_, **simply attacking an enemy wonвЂ™t get players far**. It might work for weaker minions, but for boss battles, one needs to master timing for parrying and dodging.\n",
      "\n",
      "That's because when performing a \"_Perfect Parry_\" or a \"_Perfect Dodge,_\" players can counter a Naytiba with devastating damage and recharge \"_Beta Energy\"_ abilities that can quickly turn the tide of a battle. Due to the impeccable variety of enemy types, **one always needs to consider these mechanics and learn how to read every opponent**. From enemies that lurk around the corner or the fantastic bosses you might stumble upon, players always need to be prepared for a fight.\n",
      "\n",
      "_Stellar Blade_ 's solid combat mechanics and visceral action refine established ideas within the Soulslike genre while imbuing it with a distinctive flair.\n",
      "\n",
      "**This dance of juggling abilities, dodging, and parrying in _Stellar Blade_ makes every boss fight a riveting encounter**, and there are other tools at your disposal that will also help overcome challenging opponents. EVE can use guns and powerful lasers, albeit with limited ammo, to take down Naytibas from afar or target weak points after staggering them. EVE can also deploy a Biotic Field Generator on the ground to heal herself within an area of effect or throw mines, enabling players to use various strategies on the fly.\n",
      "\n",
      "_Stellar Blade_'s solid combat mechanics and visceral action refine established ideas within the Soulslike genre while imbuing it with a distinctive flair. Even after 25 hours, these intricate innovations make Stellar BladeвЂ™s gameplay the real star of the show and surpass all expectations.\n",
      "\n",
      "## Stellar Blade's Narrative Could Be More Compelling\n",
      "\n",
      "### Not Living Up To Its Potential\n",
      "\n",
      "While _Stellar Blade_вЂ™s main highlight is its combat, the narrative is probably its weakest point. This doesnвЂ™t mean the narrative isnвЂ™t worth experiencing; it just doesnвЂ™t do enough to stand out. The overarching plot is quite exciting but often held back, with **key moments lacking emotional impact**. The narrative does not break any new ground, sometimes begging the question of whether itвЂ™s living up to its full potential.\n",
      "\n",
      "_Stellar Blade_ is set in a derelict world with many opportunities to tell exciting stories. Most of these self-contained stories can be experienced via side-quests and activities, some unlocking major features, while others might involve a math puzzle. One of the more consequential side quests involves helping a hairdresser, where EVE needs to find items like a hair dryer and scissors for them. Completing the mission will allow players to customize EVEвЂ™s hair at the hairdresserвЂ™s salon.\n",
      "\n",
      "**While side quests are a good distraction, the main story beats can be a bit predictable**. Much like _NieR Automata_вЂ™s lore, _Stellar Blade_вЂ™s universe could benefit from more world-building; it still has enough twists, entertaining action sequences, and hits all the right notes that will resonate with most action RPG players.\n",
      "\n",
      "## Stellar BladeвЂ™s World Feels and Sounds Familiar\n",
      "\n",
      "### Taking The Right Inspirations\n",
      "\n",
      "**_Stellar Blade_вЂ™s vibe and world invoke a profound familiarity reminiscent of _NieR: Automata_ while infusing core mechanics from Soulslike titles**. The semi-open world often reminds me of _NieR_вЂ™s desolate, post-apocalyptic landscape of deserts, junkyards, and dilapidated buildings. While familiar, these hubs intertwine storytelling and exploration with Soulslike elements with the utmost finesse.\n",
      "\n",
      "_Stellar Blade_ proves that not every game needs to be an exhausting open world with content that serves no purpose.\n",
      "\n",
      "When exploring various environments, players will solve basic puzzles, find new nano suits/cosmetic items, and upgrades to bolster EVEвЂ™s health. It always pays off to go off the beaten path to hunt for rewards and collectibles that ultimately benefit EVE in the long run. The game also goes a bit further to **incorporate mini-games into some mundane tasks**, elevating the overall gameplay experience. _Stellar Blade_ proves that not every game needs to be an exhausting open world with content that serves no purpose, and achieves this balance exceptionally well.\n",
      "\n",
      "For example, some chests require players to play a mini-game that uses the D-pad or redirect energy using a unique mechanic that utilizes both thumbsticks. Each mini-game seems unsophisticated at first but progressively escalates in complexity further into the story.\n",
      "\n",
      "Taking a cue from the best Soulslike games, players will also run into вЂњ_Supply Camps_вЂќ and resting points where they can upgrade EVEвЂ™s abilities, stats, and items. Like bonfires, these camps also replenish EVEвЂ™s health and the limited number of health tumblers while also respawning enemies in the area. Players can also use a phone booth to fast travel in _Stellar Blade_ in case they want to farm enemies for XP or look for more collectibles in other areas. **ItвЂ™s a familiar setting that works well for** _**Stellar Blade**_ and doesn't detract from all the fun.\n",
      "\n",
      "What brings _Stellar Blade_вЂ™s world to most life is some of the distinctive soundtrack composed by Keiichi Okabe. The revered composer has delivered yet another evocative soundtrack that perfectly sets up major set pieces and key moments. From feeling like sitting in a late-night bar at Supply Camps to tension-filled background scores, **the soundtrack reinforces the level of immersion with splendid flair**.\n",
      "\n",
      "_Stellar Blade_вЂ™s world is a charming throwback to linear titles that is genuinely a breath of fresh air. In a sea filled with bloated open-world titles, the game stands out by amalgamating many borrowed ideas with invigorating combat and RPG systems.\n",
      "\n",
      "## How Stellar Blade Looks & Performs\n",
      "\n",
      "### Meant For The PS5\n",
      "\n",
      "While most of _Stellar Blade_ looks stunning and stimulating, it needs some fine-tuning in the character model department. EVE and most main characters have been crafted with great detail, but **noticeable artifacts around their character models often hamper the experience**. Screenshots would usually turn out blurry, even after turning off the вЂњ_Motion Blur_вЂќ feature. For what itвЂ™s worth, the visual fidelity of the open world looks remarkable most of the time, but the aforementioned inconsistencies during cut scenes would often stick out like a sore thumb.\n",
      "\n",
      "As for performance, _Stellar Blade_ runs at a smooth 60FPS using both balanced and performance modes, which should be the ideal way to experience this game. Having said that, the draw distance could use some work as far-away enemies would often depopulate or populate jarringly in the semi-open world. These enemies would also patrol the area at a lower frame rate than usual, looking quite comical and reminiscent of a bygone era. **ItвЂ™s fair to say, however, that _Stellar Blade_вЂ™s performance was mostly solid since there were no game-breaking bugs, crashes, or glitches experienced during my 25-hour playthrough**.\n",
      "\n",
      "## Final Thoughts & Review Score\n",
      "\n",
      "### 4.5/5\n",
      "\n",
      "**Shift UpвЂ™s _Stellar Blade_ stands tall as a stellar debut for the PS5 and is undoubtedly going to be a staple for many action RPG fans**. Its main strength lies in its combat mechanics and boss designs, which often steal the show. With a familiar setting inspired by its source material, _Stellar Blade_ can still be quite an enamoring and challenging game that will test your skills and patience with pulse-pounding encounters.\n",
      "\n",
      "Shift Up coalesces all the right tropes from some of its most revered contemporaries into _Stellar Blade_ while refining quintessential elements from Soulslite classics. ItвЂ™s a testament to how gameplay can be exciting, fun, and at its finest when done right. **Though its narrative pacing and world-building may falter slightly, _Stellar Blade_ as a whole is an action-packed marvel and a wonderful addition to PlayStationвЂ™s exclusive gaming family**.\n",
      "\n",
      "Нормализированный текст:\n",
      " _stellar blade_ is the latest exclusive to hit the playstation 5 that excels at delivering a highly riveting action rpg. shift up corporation has crafted an impressive linear title that takes influences from some of the most renowned games in recent times. even though the parallels are quite apparent _stellar blade_ doesnвђt try to reinvent the wheel but rather refines what players are already familiar with. _stellar blade_ is centered around eve a member of the 7th airborne division who has come back to a ravaged earth from an offworld colony. she along with other warriors has been sent to investigate the origins of the naytibas and reclaim the planet for humanity. during the course of her mission eve discovers that the history between the naytibas and humans is far more complicated than anticipated. stellar blade stellar blade is an immediate mustplay for ps5. pros spectacular combat mechanics solid performance cool abilities evocative soundtrack cons inconsistent narrative pacing minor visual issues combat gameplay is the star of the show fun exhilarating encounters set in a semiopen world _stellar blade_ is akin to the cult hit _nier automata_ while borrowing gameplay elements from soulslite titles like _jedi fallen order_. while this may initially sound intimidating it isnвђt as steadfast in the genreвђs common stereotypes. gameplay can be quite rewarding if players use all the mechanics and rpg systems as intended and it even has a вђњ_story mode_вђќ for those who arenвђt experienced with soulslike mechanics. stellar blade demands its players to be precise and adaptable with their actions on normal difficulty and playing a more defensive style will be a boon especially during boss fights. unlike hackandslash titles like _nier automata_ simply attacking an enemy wonвђt get players far. it might work for weaker minions but for boss battles one needs to master timing for parrying and dodging. that's because when performing a _perfect parry_ or a _perfect dodge_ players can counter a naytiba with devastating damage and recharge _beta energy_ abilities that can quickly turn the tide of a battle. due to the impeccable variety of enemy types one always needs to consider these mechanics and learn how to read every opponent. from enemies that lurk around the corner or the fantastic bosses you might stumble upon players always need to be prepared for a fight. _stellar blade_ 's solid combat mechanics and visceral action refine established ideas within the soulslike genre while imbuing it with a distinctive flair. this dance of juggling abilities dodging and parrying in _stellar blade_ makes every boss fight a riveting encounter and there are other tools at your disposal that will also help overcome challenging opponents. eve can use guns and powerful lasers albeit with limited ammo to take down naytibas from afar or target weak points after staggering them. eve can also deploy a biotic field generator on the ground to heal herself within an area of effect or throw mines enabling players to use various strategies on the fly. _stellar blade_'s solid combat mechanics and visceral action refine established ideas within the soulslike genre while imbuing it with a distinctive flair. even after 25 hours these intricate innovations make stellar bladeвђs gameplay the real star of the show and surpass all expectations. stellar blade's narrative could be more compelling not living up to its potential while _stellar blade_вђs main highlight is its combat the narrative is probably its weakest point. this doesnвђt mean the narrative isnвђt worth experiencing it just doesnвђt do enough to stand out. the overarching plot is quite exciting but often held back with key moments lacking emotional impact. the narrative does not break any new ground sometimes begging the question of whether itвђs living up to its full potential. _stellar blade_ is set in a derelict world with many opportunities to tell exciting stories. most of these selfcontained stories can be experienced via sidequests and activities some unlocking major features while others might involve a math puzzle. one of the more consequential side quests involves helping a hairdresser where eve needs to find items like a hair dryer and scissors for them. completing the mission will allow players to customize eveвђs hair at the hairdresserвђs salon. while side quests are a good distraction the main story beats can be a bit predictable. much like _nier automata_вђs lore _stellar blade_вђs universe could benefit from more worldbuilding it still has enough twists entertaining action sequences and hits all the right notes that will resonate with most action rpg players. stellar bladeвђs world feels and sounds familiar taking the right inspirations _stellar blade_вђs vibe and world invoke a profound familiarity reminiscent of _nier automata_ while infusing core mechanics from soulslike titles. the semiopen world often reminds me of _nier_вђs desolate postapocalyptic landscape of deserts junkyards and dilapidated buildings. while familiar these hubs intertwine storytelling and exploration with soulslike elements with the utmost finesse. _stellar blade_ proves that not every game needs to be an exhausting open world with content that serves no purpose. when exploring various environments players will solve basic puzzles find new nano suitscosmetic items and upgrades to bolster eveвђs health. it always pays off to go off the beaten path to hunt for rewards and collectibles that ultimately benefit eve in the long run. the game also goes a bit further to incorporate minigames into some mundane tasks elevating the overall gameplay experience. _stellar blade_ proves that not every game needs to be an exhausting open world with content that serves no purpose and achieves this balance exceptionally well. for example some chests require players to play a minigame that uses the dpad or redirect energy using a unique mechanic that utilizes both thumbsticks. each minigame seems unsophisticated at first but progressively escalates in complexity further into the story. taking a cue from the best soulslike games players will also run into вђњ_supply camps_вђќ and resting points where they can upgrade eveвђs abilities stats and items. like bonfires these camps also replenish eveвђs health and the limited number of health tumblers while also respawning enemies in the area. players can also use a phone booth to fast travel in _stellar blade_ in case they want to farm enemies for xp or look for more collectibles in other areas. itвђs a familiar setting that works well for _stellar blade_ and doesn't detract from all the fun. what brings _stellar blade_вђs world to most life is some of the distinctive soundtrack composed by keiichi okabe. the revered composer has delivered yet another evocative soundtrack that perfectly sets up major set pieces and key moments. from feeling like sitting in a latenight bar at supply camps to tensionfilled background scores the soundtrack reinforces the level of immersion with splendid flair. _stellar blade_вђs world is a charming throwback to linear titles that is genuinely a breath of fresh air. in a sea filled with bloated openworld titles the game stands out by amalgamating many borrowed ideas with invigorating combat and rpg systems. how stellar blade looks performs meant for the ps5 while most of _stellar blade_ looks stunning and stimulating it needs some finetuning in the character model department. eve and most main characters have been crafted with great detail but noticeable artifacts around their character models often hamper the experience. screenshots would usually turn out blurry even after turning off the вђњ_motion blur_вђќ feature. for what itвђs worth the visual fidelity of the open world looks remarkable most of the time but the aforementioned inconsistencies during cut scenes would often stick out like a sore thumb. as for performance _stellar blade_ runs at a smooth 60fps using both balanced and performance modes which should be the ideal way to experience this game. having said that the draw distance could use some work as faraway enemies would often depopulate or populate jarringly in the semiopen world. these enemies would also patrol the area at a lower frame rate than usual looking quite comical and reminiscent of a bygone era. itвђs fair to say however that _stellar blade_вђs performance was mostly solid since there were no gamebreaking bugs crashes or glitches experienced during my 25hour playthrough. final thoughts review score 4.55 shift upвђs _stellar blade_ stands tall as a stellar debut for the ps5 and is undoubtedly going to be a staple for many action rpg fans. its main strength lies in its combat mechanics and boss designs which often steal the show. with a familiar setting inspired by its source material _stellar blade_ can still be quite an enamoring and challenging game that will test your skills and patience with pulsepounding encounters. shift up coalesces all the right tropes from some of its most revered contemporaries into _stellar blade_ while refining quintessential elements from soulslite classics. itвђs a testament to how gameplay can be exciting fun and at its finest when done right. though its narrative pacing and worldbuilding may falter slightly _stellar blade_ as a whole is an actionpacked marvel and a wonderful addition to playstationвђs exclusive gaming family.\n",
      "Настроение текста:\n",
      " 4\n",
      "Информация из текста, сокращенная на 50%:\n",
      " **_Stellar Blade_** is the latest exclusive to hit the PlayStation 5 that excels at delivering a highly riveting action RPG Shift Up Corporation has crafted an impressive linear title that takes influences from some of the most renowned games in recent times **Even though the parallels are quite apparent, _Stellar Blade_ doesnвЂ™t try to reinvent the wheel but rather refines what players are already familiar with **\n",
      "\n",
      "_Stellar Blade_ is centered around EVE, a member of the 7th Airborne Division who has come back to a ravaged Earth from an off-world colony She, along with other warriors, has been sent to investigate the origins of the Naytibas and reclaim the planet for humanity During the course of her mission, EVE discovers that the history between the Naytibas and humans is far more complicated than anticipated ##### Stellar Blade\n",
      "\n",
      "Stellar Blade is an immediate must-play for PS5 **Pros**\n",
      "\n",
      "-   Spectacular combat mechanics\n",
      "-   Solid performance\n",
      "-   Cool abilities\n",
      "-   Evocative soundtrack\n",
      "\n",
      "**Cons**\n",
      "\n",
      "-   Inconsistent narrative pacing\n",
      "-   Minor visual issues\n",
      "\n",
      "## Combat Gameplay Is The Star Of The Show\n",
      "\n",
      "### Fun & Exhilarating Encounters\n",
      "\n",
      "Set in a semi-open world, _Stellar Blade_ is akin to the cult hit _NieR: Automata_ while borrowing gameplay elements from Soulslite titles like _Jedi: Fallen Order_ While this may initially sound intimidating, it isnвЂ™t as steadfast in the genreвЂ™s common stereotypes **Gameplay can be quite rewarding if players use all the mechanics and RPG systems as intended**, and it even has a вЂњ_Story Mode_вЂќ for those who arenвЂ™t experienced with Soulslike mechanics Stellar Blade demands its players to be precise and adaptable with their actions on normal difficulty, and playing a more defensive style will be a boon, especially during boss fights Unlike hack-and-slash titles like _NieR: Automata_, **simply attacking an enemy wonвЂ™t get players far** It might work for weaker minions, but for boss battles, one needs to master timing for parrying and dodging That's because when performing a \"_Perfect Parry_\" or a \"_Perfect Dodge,_\" players can counter a Naytiba with devastating damage and recharge \"_Beta Energy\"_ abilities that can quickly turn the tide of a battle Due to the impeccable variety of enemy types, **one always needs to consider these mechanics and learn how to read every opponent** From enemies that lurk around the corner or the fantastic bosses you might stumble upon, players always need to be prepared for a fight _Stellar Blade_ 's solid combat mechanics and visceral action refine established ideas within the Soulslike genre while imbuing it with a distinctive flair **This dance of juggling abilities, dodging, and parrying in _Stellar Blade_ makes every boss fight a riveting encounter**, and there are other tools at your disposal that will also help overcome challenging opponents EVE can use guns and powerful lasers, albeit with limited ammo, to take down Naytibas from afar or target weak points after staggering them EVE can also deploy a Biotic Field Generator on the ground to heal herself within an area of effect or throw mines, enabling players to use various strategies on the fly _Stellar Blade_'s solid combat mechanics and visceral action refine established ideas within the Soulslike genre while imbuing it with a distinctive flair Even after 25 hours, these intricate innovations make Stellar BladeвЂ™s gameplay the real star of the show and surpass all expectations ## Stellar Blade's Narrative Could Be More Compelling\n",
      "\n",
      "### Not Living Up To Its Potential\n",
      "\n",
      "While _Stellar Blade_вЂ™s main highlight is its combat, the narrative is probably its weakest point This doesnвЂ™t mean the narrative isnвЂ™t worth experiencing; it just doesnвЂ™t do enough to stand out The overarching plot is quite exciting but often held back, with **key moments lacking emotional impact** The narrative does not break any new ground, sometimes begging the question of whether itвЂ™s living up to its full potential _Stellar Blade_ is set in a derelict world with many opportunities to tell exciting stories Most of these self-contained stories can be experienced via side-quests and activities, some unlocking major features, while others might involve a math puzzle One of the more consequential side quests involves helping a hairdresser, where EVE needs to find items like a hair dryer and scissors for them Completing the mission will allow players to customize EVEвЂ™s hair at the hairdresserвЂ™s salon **While side quests are a good distraction, the main story beats can be a bit predictable** Much like _NieR Automata_вЂ™s lore, _Stellar Blade_вЂ™s universe could benefit from more world-building; it still has enough twists, entertaining action sequences, and hits all the right notes that will resonate with most action RPG players ## Stellar BladeвЂ™s World Feels and Sounds Familiar\n",
      "\n",
      "### Taking The Right Inspirations\n",
      "\n",
      "**_Stellar Blade_вЂ™s vibe and world invoke a profound familiarity reminiscent of _NieR: Automata_ while infusing core mechanics from Soulslike titles**\n",
      "Наиболее встречающиеся слова в тексте:\n",
      " {'_stellar': 24, 'blade_': 17, 'latest': 1, 'exclusive': 2, 'hit': 2, 'playstation': 1, '5': 1, 'excels': 1, 'delivering': 1, 'highly': 1, 'riveting': 2, 'action': 6, 'rpg': 5, 'shift': 3, 'up': 5, 'corporation': 1, 'has': 6, 'crafted': 2, 'impressive': 1, 'linear': 2, 'title': 1, 'takes': 1, 'influences': 1, 'from': 12, 'some': 8, 'most': 8, 'renowned': 1, 'games': 2, 'recent': 1, 'times': 1, 'even': 4, 'though': 2, 'parallels': 1, 'are': 4, 'quite': 5, 'apparent': 1, 'doesnвђt': 3, 'try': 1, 'reinvent': 1, 'wheel': 1, 'but': 6, 'rather': 1, 'refines': 1, 'what': 3, 'players': 13, 'already': 1, 'familiar': 5, 'centered': 1, 'around': 3, 'eve': 7, 'member': 1, '7th': 1, 'airborne': 1, 'division': 1, 'who': 2, 'come': 1, 'back': 2, 'ravaged': 1, 'earth': 1, 'offworld': 1, 'colony': 1, 'she': 1, 'along': 1, 'other': 3, 'warriors': 1, 'been': 2, 'sent': 1, 'investigate': 1, 'origins': 1, 'naytibas': 3, 'reclaim': 1, 'planet': 1, 'humanity': 1, 'during': 4, 'course': 1, 'her': 1, 'mission': 2, 'discovers': 1, 'history': 1, 'between': 1, 'humans': 1, 'far': 2, 'more': 6, 'complicated': 1, 'than': 2, 'anticipated': 1, 'stellar': 8, 'blade': 4, 'immediate': 1, 'mustplay': 1, 'ps5': 3, 'pros': 1, 'spectacular': 1, 'combat': 7, 'mechanics': 8, 'solid': 4, 'performance': 4, 'cool': 1, 'abilities': 4, 'evocative': 2, 'soundtrack': 4, 'cons': 1, 'inconsistent': 1, 'narrative': 6, 'pacing': 2, 'minor': 1, 'visual': 2, 'issues': 1, 'gameplay': 6, 'star': 2, 'show': 3, 'fun': 3, 'exhilarating': 1, 'encounters': 2, 'set': 3, 'semiopen': 3, 'world': 11, 'akin': 1, 'cult': 1, '_nier': 4, 'automata_': 3, 'while': 12, 'borrowing': 1, 'elements': 3, 'soulslite': 2, 'titles': 5, 'like': 7, '_jedi': 1, 'fallen': 1, 'order_': 1, 'may': 2, 'initially': 1, 'sound': 1, 'intimidating': 1, 'isnвђt': 2, 'as': 6, 'steadfast': 1, 'genreвђs': 1, 'common': 1, 'stereotypes': 1, 'can': 11, 'rewarding': 1, 'if': 1, 'use': 5, 'all': 5, 'systems': 2, 'intended': 1, 'вђњ_story': 1, 'mode_вђќ': 1, 'those': 1, 'arenвђt': 1, 'experienced': 3, 'soulslike': 6, 'demands': 1, 'its': 11, 'precise': 1, 'adaptable': 1, 'their': 2, 'actions': 1, 'normal': 1, 'difficulty': 1, 'playing': 1, 'defensive': 1, 'style': 1, 'will': 7, 'boon': 1, 'especially': 1, 'boss': 4, 'fights': 1, 'unlike': 1, 'hackandslash': 1, 'simply': 1, 'attacking': 1, 'enemy': 2, 'wonвђt': 1, 'get': 1, 'might': 3, 'work': 2, 'weaker': 1, 'minions': 1, 'battles': 1, 'one': 3, 'needs': 6, 'master': 1, 'timing': 1, 'parrying': 2, 'dodging': 2, \"that's\": 1, 'because': 1, 'when': 3, 'performing': 1, '_perfect': 2, 'parry_': 1, 'or': 8, 'dodge_': 1, 'counter': 1, 'naytiba': 1, 'devastating': 1, 'damage': 1, 'recharge': 1, '_beta': 1, 'energy_': 1, 'quickly': 1, 'turn': 2, 'tide': 1, 'battle': 1, 'due': 1, 'impeccable': 1, 'variety': 1, 'types': 1, 'always': 3, 'consider': 1, 'these': 6, 'learn': 1, 'how': 3, 'read': 1, 'every': 4, 'opponent': 1, 'enemies': 5, 'lurk': 1, 'corner': 1, 'fantastic': 1, 'bosses': 1, 'stumble': 1, 'upon': 1, 'need': 1, 'prepared': 1, 'fight': 2, 's': 1, 'visceral': 2, 'refine': 2, 'established': 2, 'ideas': 3, 'within': 3, 'genre': 2, 'imbuing': 2, 'distinctive': 3, 'flair': 3, 'dance': 1, 'juggling': 1, 'makes': 1, 'encounter': 1, 'there': 2, 'tools': 1, 'your': 2, 'disposal': 1, 'also': 8, 'help': 1, 'overcome': 1, 'challenging': 2, 'opponents': 1, 'guns': 1, 'powerful': 1, 'lasers': 1, 'albeit': 1, 'limited': 2, 'ammo': 1, 'take': 1, 'down': 1, 'afar': 1, 'target': 1, 'weak': 1, 'points': 2, 'after': 3, 'staggering': 1, 'them': 2, 'deploy': 1, 'biotic': 1, 'field': 1, 'generator': 1, 'ground': 2, 'heal': 1, 'herself': 1, 'area': 3, 'effect': 1, 'throw': 1, 'mines': 1, 'enabling': 1, 'various': 2, 'strategies': 1, 'fly': 1, \"blade_'s\": 1, '25': 1, 'hours': 1, 'intricate': 1, 'innovations': 1, 'make': 1, 'bladeвђs': 2, 'real': 1, 'surpass': 1, 'expectations': 1, \"blade's\": 1, 'could': 3, 'compelling': 1, 'not': 4, 'living': 2, 'potential': 2, 'blade_вђs': 6, 'main': 4, 'highlight': 1, 'probably': 1, 'weakest': 1, 'point': 1, 'mean': 1, 'worth': 2, 'experiencing': 1, 'just': 1, 'do': 1, 'enough': 2, 'stand': 1, 'out': 4, 'overarching': 1, 'plot': 1, 'exciting': 3, 'often': 6, 'held': 1, 'key': 2, 'moments': 2, 'lacking': 1, 'emotional': 1, 'impact': 1, 'does': 1, 'break': 1, 'any': 1, 'new': 2, 'sometimes': 1, 'begging': 1, 'question': 1, 'whether': 1, 'itвђs': 5, 'full': 1, 'derelict': 1, 'many': 3, 'opportunities': 1, 'tell': 1, 'stories': 2, 'selfcontained': 1, 'via': 1, 'sidequests': 1, 'activities': 1, 'unlocking': 1, 'major': 2, 'features': 1, 'others': 1, 'involve': 1, 'math': 1, 'puzzle': 1, 'consequential': 1, 'side': 2, 'quests': 2, 'involves': 1, 'helping': 1, 'hairdresser': 1, 'where': 2, 'find': 2, 'items': 3, 'hair': 2, 'dryer': 1, 'scissors': 1, 'completing': 1, 'allow': 1, 'customize': 1, 'eveвђs': 4, 'hairdresserвђs': 1, 'salon': 1, 'good': 1, 'distraction': 1, 'story': 2, 'beats': 1, 'bit': 2, 'predictable': 1, 'much': 1, 'automata_вђs': 1, 'lore': 1, 'universe': 1, 'benefit': 2, 'worldbuilding': 2, 'still': 2, 'twists': 1, 'entertaining': 1, 'sequences': 1, 'hits': 1, 'right': 4, 'notes': 1, 'resonate': 1, 'feels': 1, 'sounds': 1, 'taking': 2, 'inspirations': 1, 'vibe': 1, 'invoke': 1, 'profound': 1, 'familiarity': 1, 'reminiscent': 2, 'infusing': 1, 'core': 1, 'reminds': 1, 'me': 1, '_nier_вђs': 1, 'desolate': 1, 'postapocalyptic': 1, 'landscape': 1, 'deserts': 1, 'junkyards': 1, 'dilapidated': 1, 'buildings': 1, 'hubs': 1, 'intertwine': 1, 'storytelling': 1, 'exploration': 1, 'utmost': 1, 'finesse': 1, 'proves': 2, 'game': 6, 'exhausting': 2, 'open': 3, 'content': 2, 'serves': 2, 'no': 3, 'purpose': 2, 'exploring': 1, 'environments': 1, 'solve': 1, 'basic': 1, 'puzzles': 1, 'nano': 1, 'suitscosmetic': 1, 'upgrades': 1, 'bolster': 1, 'health': 3, 'pays': 1, 'off': 3, 'go': 1, 'beaten': 1, 'path': 1, 'hunt': 1, 'rewards': 1, 'collectibles': 2, 'ultimately': 1, 'long': 1, 'run': 2, 'goes': 1, 'further': 2, 'incorporate': 1, 'minigames': 1, 'into': 4, 'mundane': 1, 'tasks': 1, 'elevating': 1, 'overall': 1, 'experience': 3, 'achieves': 1, 'balance': 1, 'exceptionally': 1, 'well': 2, 'example': 1, 'chests': 1, 'require': 1, 'play': 1, 'minigame': 2, 'uses': 1, 'dpad': 1, 'redirect': 1, 'energy': 1, 'using': 2, 'unique': 1, 'mechanic': 1, 'utilizes': 1, 'both': 2, 'thumbsticks': 1, 'each': 1, 'seems': 1, 'unsophisticated': 1, 'first': 1, 'progressively': 1, 'escalates': 1, 'complexity': 1, 'cue': 1, 'best': 1, 'вђњ_supply': 1, 'camps_вђќ': 1, 'resting': 1, 'they': 2, 'upgrade': 1, 'stats': 1, 'bonfires': 1, 'camps': 2, 'replenish': 1, 'number': 1, 'tumblers': 1, 'respawning': 1, 'phone': 1, 'booth': 1, 'fast': 1, 'travel': 1, 'case': 1, 'want': 1, 'farm': 1, 'xp': 1, 'look': 1, 'areas': 1, 'setting': 2, 'works': 1, \"doesn't\": 1, 'detract': 1, 'brings': 1, 'life': 1, 'composed': 1, 'keiichi': 1, 'okabe': 1, 'revered': 2, 'composer': 1, 'delivered': 1, 'yet': 1, 'another': 1, 'perfectly': 1, 'sets': 1, 'pieces': 1, 'feeling': 1, 'sitting': 1, 'latenight': 1, 'bar': 1, 'supply': 1, 'tensionfilled': 1, 'background': 1, 'scores': 1, 'reinforces': 1, 'level': 1, 'immersion': 1, 'splendid': 1, 'charming': 1, 'throwback': 1, 'genuinely': 1, 'breath': 1, 'fresh': 1, 'air': 1, 'sea': 1, 'filled': 1, 'bloated': 1, 'openworld': 1, 'stands': 2, 'amalgamating': 1, 'borrowed': 1, 'invigorating': 1, 'looks': 3, 'performs': 1, 'meant': 1, 'stunning': 1, 'stimulating': 1, 'finetuning': 1, 'character': 2, 'model': 1, 'department': 1, 'characters': 1, 'have': 1, 'great': 1, 'detail': 1, 'noticeable': 1, 'artifacts': 1, 'models': 1, 'hamper': 1, 'screenshots': 1, 'would': 4, 'usually': 1, 'blurry': 1, 'turning': 1, 'вђњ_motion': 1, 'blur_вђќ': 1, 'feature': 1, 'fidelity': 1, 'remarkable': 1, 'time': 1, 'aforementioned': 1, 'inconsistencies': 1, 'cut': 1, 'scenes': 1, 'stick': 1, 'sore': 1, 'thumb': 1, 'runs': 1, 'smooth': 1, '60fps': 1, 'balanced': 1, 'modes': 1, 'which': 2, 'ideal': 1, 'way': 1, 'having': 1, 'said': 1, 'draw': 1, 'distance': 1, 'faraway': 1, 'depopulate': 1, 'populate': 1, 'jarringly': 1, 'patrol': 1, 'lower': 1, 'frame': 1, 'rate': 1, 'usual': 1, 'looking': 1, 'comical': 1, 'bygone': 1, 'era': 1, 'fair': 1, 'say': 1, 'however': 1, 'was': 1, 'mostly': 1, 'since': 1, 'were': 1, 'gamebreaking': 1, 'bugs': 1, 'crashes': 1, 'glitches': 1, 'my': 1, '25hour': 1, 'playthrough': 1, 'final': 1, 'thoughts': 1, 'review': 1, 'score': 1, '4': 1, '55': 1, 'upвђs': 1, 'tall': 1, 'debut': 1, 'undoubtedly': 1, 'going': 1, 'staple': 1, 'fans': 1, 'strength': 1, 'lies': 1, 'designs': 1, 'steal': 1, 'inspired': 1, 'source': 1, 'material': 1, 'enamoring': 1, 'test': 1, 'skills': 1, 'patience': 1, 'pulsepounding': 1, 'coalesces': 1, 'tropes': 1, 'contemporaries': 1, 'refining': 1, 'quintessential': 1, 'classics': 1, 'testament': 1, 'finest': 1, 'done': 1, 'falter': 1, 'slightly': 1, 'whole': 1, 'actionpacked': 1, 'marvel': 1, 'wonderful': 1, 'addition': 1, 'playstationвђs': 1, 'gaming': 1, 'family': 1}\n"
     ]
    }
   ],
   "source": [
    "with open('data/1.txt') as file:\n",
    "    text = file.read()\n",
    "\n",
    "text1 = TextAnalyzer(text)\n",
    "\n",
    "print(\"Текст моего варианта:\", text1.original_text)\n",
    "print(\"Нормализированный текст:\\n\", text1.cleaned_text)\n",
    "print(\"Настроение текста:\\n\", text1.analyze_sentiment())\n",
    "print(\"Информация из текста, сокращенная на 50%:\\n\", text1.summarize_text(compression_ratio=0.5))\n",
    "print(\"Наиболее встречающиеся слова в тексте:\\n\", text1.word_frequency())\n"
   ]
  },
  {
   "cell_type": "markdown",
   "metadata": {},
   "source": []
  },
  {
   "cell_type": "markdown",
   "metadata": {},
   "source": [
    "За это домашнее задание было получено множество навыков в анализе данных через язык Python. Были изучены библиотеки re, collections, typing. Используя эти библиотеки, были решены задачи на анализ текста, представленного в файле 1.txt. Так же, были улучшены навыки написания классов и функций на языке Python, и получены навыки прохождения тестов pytest и правок кода для того, чтобы он подходил под тесты."
   ]
  }
 ],
 "metadata": {
  "kernelspec": {
   "display_name": "Python 3",
   "language": "python",
   "name": "python3"
  },
  "language_info": {
   "codemirror_mode": {
    "name": "ipython",
    "version": 3
   },
   "file_extension": ".py",
   "mimetype": "text/x-python",
   "name": "python",
   "nbconvert_exporter": "python",
   "pygments_lexer": "ipython3",
   "version": "3.13.0"
  }
 },
 "nbformat": 4,
 "nbformat_minor": 2
}
